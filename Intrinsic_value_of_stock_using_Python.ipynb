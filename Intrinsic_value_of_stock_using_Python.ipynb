{
  "nbformat": 4,
  "nbformat_minor": 0,
  "metadata": {
    "colab": {
      "name": "Intrinsic value of stock using Python.ipynb",
      "provenance": [],
      "collapsed_sections": [],
      "authorship_tag": "ABX9TyM6VBMMF91NKTvgtlKoo2On",
      "include_colab_link": true
    },
    "kernelspec": {
      "name": "python3",
      "display_name": "Python 3"
    },
    "language_info": {
      "name": "python"
    }
  },
  "cells": [
    {
      "cell_type": "markdown",
      "metadata": {
        "id": "view-in-github",
        "colab_type": "text"
      },
      "source": [
        "<a href=\"https://colab.research.google.com/github/AIM-IT4/AIM-IT4/blob/main/Intrinsic_value_of_stock_using_Python.ipynb\" target=\"_parent\"><img src=\"https://colab.research.google.com/assets/colab-badge.svg\" alt=\"Open In Colab\"/></a>"
      ]
    },
    {
      "cell_type": "markdown",
      "source": [
        "## ***Calculate fair value of stock using DCF Techniques***"
      ],
      "metadata": {
        "id": "atUvfNhmQ4aS"
      }
    },
    {
      "cell_type": "code",
      "source": [
        "# !pip install yahoofinancials\n",
        "# !pip install yahoo_fin"
      ],
      "metadata": {
        "id": "x6oIOQziuVUQ"
      },
      "execution_count": 15,
      "outputs": []
    },
    {
      "cell_type": "code",
      "source": [
        "from yahoofinancials import YahooFinancials\n",
        "import yahoo_fin.stock_info as si"
      ],
      "metadata": {
        "id": "F2muU0SAvPpr"
      },
      "execution_count": 16,
      "outputs": []
    },
    {
      "cell_type": "code",
      "source": [
        "ticker= 'YESBANK.NS'"
      ],
      "metadata": {
        "id": "ptLOqktxB1Ak"
      },
      "execution_count": 17,
      "outputs": []
    },
    {
      "cell_type": "code",
      "source": [
        "stock_obj = YahooFinancials(ticker)\n",
        "price_dict = stock_obj.get_stock_price_data()[ticker]\n",
        "current = price_dict['regularMarketPreviousClose']\n",
        "currency = price_dict['currency']\n",
        "shares_outstandings = stock_obj.get_num_shares_outstanding()"
      ],
      "metadata": {
        "id": "3jYacBprCAfI"
      },
      "execution_count": 18,
      "outputs": []
    },
    {
      "cell_type": "code",
      "source": [
        "EarningPerShare_dict = stock_obj.get_earnings_per_share()\n",
        "EarningPerShare_dict"
      ],
      "metadata": {
        "colab": {
          "base_uri": "https://localhost:8080/",
          "height": 0
        },
        "id": "t1cVwJ3MvTJ5",
        "outputId": "e12d2067-0d70-4ace-b62d-bbee2f9b0472"
      },
      "execution_count": 19,
      "outputs": [
        {
          "output_type": "execute_result",
          "data": {
            "text/plain": [
              "0.46999999262745107"
            ]
          },
          "metadata": {},
          "execution_count": 19
        }
      ]
    },
    {
      "cell_type": "code",
      "source": [
        "shares_outstandings"
      ],
      "metadata": {
        "colab": {
          "base_uri": "https://localhost:8080/",
          "height": 0
        },
        "id": "B1vO92NFC6lX",
        "outputId": "67b5df6e-da00-4ff2-8e6b-4fc3d180ebf6"
      },
      "execution_count": 20,
      "outputs": [
        {
          "output_type": "execute_result",
          "data": {
            "text/plain": [
              "25087701232.941174"
            ]
          },
          "metadata": {},
          "execution_count": 20
        }
      ]
    },
    {
      "cell_type": "code",
      "source": [
        "Projected_GR = si.get_analysts_info(ticker)['Growth Estimates'][ticker]\n",
        "Projected_GR\n",
        "df= Projected_GR.to_frame(name='GR')\n",
        "df['GR']= df['GR'].str.rstrip('%').astype('float')\n",
        "x=df._get_value(4, 'GR')"
      ],
      "metadata": {
        "id": "oxnlN8qlve7X"
      },
      "execution_count": 21,
      "outputs": []
    },
    {
      "cell_type": "code",
      "source": [
        "earnings_dict = {0:round(stock_obj.get_earnings_per_share(),2)}\n",
        "earnings_dict"
      ],
      "metadata": {
        "colab": {
          "base_uri": "https://localhost:8080/",
          "height": 0
        },
        "id": "2LFks26FyMAE",
        "outputId": "2c30c039-a0fd-49bb-8a71-347117da4ccf"
      },
      "execution_count": 22,
      "outputs": [
        {
          "output_type": "execute_result",
          "data": {
            "text/plain": [
              "{0: 0.47}"
            ]
          },
          "metadata": {},
          "execution_count": 22
        }
      ]
    },
    {
      "cell_type": "code",
      "source": [
        "for i in range(1,10):\n",
        "  j = i - 1\n",
        "  earnings_dict[i] = round(earnings_dict[j]+(earnings_dict[j] * (x/100)),2)"
      ],
      "metadata": {
        "id": "ebjqgDZ12PkB"
      },
      "execution_count": 23,
      "outputs": []
    },
    {
      "cell_type": "code",
      "source": [
        "earnings_dict"
      ],
      "metadata": {
        "colab": {
          "base_uri": "https://localhost:8080/",
          "height": 0
        },
        "id": "HdQs_8M02bvx",
        "outputId": "a48d06d6-3a7c-4d04-a448-3d73e037c844"
      },
      "execution_count": 24,
      "outputs": [
        {
          "output_type": "execute_result",
          "data": {
            "text/plain": [
              "{0: 0.47,\n",
              " 1: 0.58,\n",
              " 2: 0.71,\n",
              " 3: 0.87,\n",
              " 4: 1.07,\n",
              " 5: 1.32,\n",
              " 6: 1.63,\n",
              " 7: 2.01,\n",
              " 8: 2.48,\n",
              " 9: 3.05}"
            ]
          },
          "metadata": {},
          "execution_count": 24
        }
      ]
    },
    {
      "cell_type": "code",
      "source": [
        "intrinsic_price_dict = {0: earnings_dict[0]*(x)}\n",
        "for i in range(1,10):\n",
        "   j = i - 1\n",
        "   intrinsic_price_dict[i] = intrinsic_price_dict[j]/(1+0.15)"
      ],
      "metadata": {
        "id": "rLsVaukx2wnm"
      },
      "execution_count": 25,
      "outputs": []
    },
    {
      "cell_type": "code",
      "source": [
        "intrinsic_price_dict"
      ],
      "metadata": {
        "colab": {
          "base_uri": "https://localhost:8080/",
          "height": 0
        },
        "id": "vO4ZJ5GB2-Xx",
        "outputId": "09c10cf2-eecf-4897-99d2-76c74b9abadc"
      },
      "execution_count": 26,
      "outputs": [
        {
          "output_type": "execute_result",
          "data": {
            "text/plain": [
              "{0: 10.8899,\n",
              " 1: 9.469478260869566,\n",
              " 2: 8.234328922495276,\n",
              " 3: 7.16028601956111,\n",
              " 4: 6.226335669183575,\n",
              " 5: 5.414204929724848,\n",
              " 6: 4.70800428671726,\n",
              " 7: 4.0939167710584865,\n",
              " 8: 3.55992762700738,\n",
              " 9: 3.0955892408759826}"
            ]
          },
          "metadata": {},
          "execution_count": 26
        }
      ]
    },
    {
      "cell_type": "code",
      "source": [
        "current_intrinsic_price = round(intrinsic_price_dict[0],2)\n",
        "buyable_price = round((current_intrinsic_price * 0.8), 2)\n",
        "\n",
        "buyable_price"
      ],
      "metadata": {
        "colab": {
          "base_uri": "https://localhost:8080/",
          "height": 0
        },
        "id": "Bh0UK-0G3HWX",
        "outputId": "7097d848-d54d-48b2-c3b0-21829b6e52cb"
      },
      "execution_count": 27,
      "outputs": [
        {
          "output_type": "execute_result",
          "data": {
            "text/plain": [
              "8.71"
            ]
          },
          "metadata": {},
          "execution_count": 27
        }
      ]
    },
    {
      "cell_type": "code",
      "source": [
        "if buyable_price > stock_obj.get_daily_high():\n",
        "        print(f\"{ticker}: Cheap\\nTarget = <Rs{buyable_price}\\nCurrent = Rs{current}.\")\n",
        "else:\n",
        "        print(f'{ticker}: Expensive\\nTarget = <Rs{buyable_price}\\nCurrent = Rs{current}')"
      ],
      "metadata": {
        "colab": {
          "base_uri": "https://localhost:8080/",
          "height": 0
        },
        "id": "C69YlNktBNP8",
        "outputId": "f34e6d4c-f54d-4bff-a62d-7e7ce1d71a69"
      },
      "execution_count": 28,
      "outputs": [
        {
          "output_type": "stream",
          "name": "stdout",
          "text": [
            "YESBANK.NS: Expensive\n",
            "Target = <Rs8.71\n",
            "Current = Rs15.4\n"
          ]
        }
      ]
    }
  ]
}